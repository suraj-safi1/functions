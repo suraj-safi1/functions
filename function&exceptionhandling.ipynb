{
  "nbformat": 4,
  "nbformat_minor": 0,
  "metadata": {
    "colab": {
      "name": "Untitled3.ipynb",
      "provenance": [],
      "authorship_tag": "ABX9TyNLkXSoU5MP7HSV4hWvwObv",
      "include_colab_link": true
    },
    "kernelspec": {
      "name": "python3",
      "display_name": "Python 3"
    },
    "language_info": {
      "name": "python"
    }
  },
  "cells": [
    {
      "cell_type": "markdown",
      "metadata": {
        "id": "view-in-github",
        "colab_type": "text"
      },
      "source": [
        "<a href=\"https://colab.research.google.com/github/suraj-safi1/functions/blob/main/function%26exceptionhandling.ipynb\" target=\"_parent\"><img src=\"https://colab.research.google.com/assets/colab-badge.svg\" alt=\"Open In Colab\"/></a>"
      ]
    },
    {
      "cell_type": "code",
      "execution_count": null,
      "metadata": {
        "id": "A0Er7nQ_TaB8"
      },
      "outputs": [],
      "source": [
        "def table(n):\n",
        "  for i in range(1,11):\n",
        "    print(str(n)+ \"X\"+str(i)+ \"=\" +str(i*n))"
      ]
    },
    {
      "cell_type": "code",
      "source": [
        "table(44)"
      ],
      "metadata": {
        "colab": {
          "base_uri": "https://localhost:8080/"
        },
        "id": "zsrpThD4Tqm8",
        "outputId": "6e6397a3-bc38-4897-b77d-966bdddad1be"
      },
      "execution_count": null,
      "outputs": [
        {
          "output_type": "stream",
          "name": "stdout",
          "text": [
            "44X1=44\n",
            "44X2=88\n",
            "44X3=132\n",
            "44X4=176\n",
            "44X5=220\n",
            "44X6=264\n",
            "44X7=308\n",
            "44X8=352\n",
            "44X9=396\n",
            "44X10=440\n"
          ]
        }
      ]
    },
    {
      "cell_type": "code",
      "source": [
        "def sum(a,b):\n",
        "  c=a+b\n",
        "  return c\n",
        "  "
      ],
      "metadata": {
        "id": "YLZMG3uhTubk"
      },
      "execution_count": 1,
      "outputs": []
    },
    {
      "cell_type": "code",
      "source": [
        "sum(230,450)\n"
      ],
      "metadata": {
        "colab": {
          "base_uri": "https://localhost:8080/"
        },
        "id": "JNlobWAIT4h3",
        "outputId": "b55fda47-aaab-46f5-855f-748a495db45e"
      },
      "execution_count": 2,
      "outputs": [
        {
          "output_type": "execute_result",
          "data": {
            "text/plain": [
              "680"
            ]
          },
          "metadata": {},
          "execution_count": 2
        }
      ]
    },
    {
      "cell_type": "code",
      "source": [
        "zeb=lambda x: x+2"
      ],
      "metadata": {
        "id": "r3HrP27vT9Dh"
      },
      "execution_count": 3,
      "outputs": []
    },
    {
      "cell_type": "code",
      "source": [
        "zeb(3)"
      ],
      "metadata": {
        "colab": {
          "base_uri": "https://localhost:8080/"
        },
        "id": "AVlX_IDqUEwa",
        "outputId": "fd7a0985-877b-4547-b1e9-ffc94aa54265"
      },
      "execution_count": 4,
      "outputs": [
        {
          "output_type": "execute_result",
          "data": {
            "text/plain": [
              "5"
            ]
          },
          "metadata": {},
          "execution_count": 4
        }
      ]
    },
    {
      "cell_type": "code",
      "source": [
        "zeb=lambda x,y: x+y"
      ],
      "metadata": {
        "id": "kPO29nwHUH2q"
      },
      "execution_count": 5,
      "outputs": []
    },
    {
      "cell_type": "code",
      "source": [
        "zeb(9,90)"
      ],
      "metadata": {
        "colab": {
          "base_uri": "https://localhost:8080/"
        },
        "id": "akKnMRiFUORw",
        "outputId": "563b4170-4308-44ba-a3ea-1f57336ec586"
      },
      "execution_count": 6,
      "outputs": [
        {
          "output_type": "execute_result",
          "data": {
            "text/plain": [
              "99"
            ]
          },
          "metadata": {},
          "execution_count": 6
        }
      ]
    },
    {
      "cell_type": "code",
      "source": [
        "check=lambda x:print('even') if x%2==0 else print('odd')"
      ],
      "metadata": {
        "id": "ciaMZrOOUR-B"
      },
      "execution_count": 7,
      "outputs": []
    },
    {
      "cell_type": "code",
      "source": [
        "check(9)"
      ],
      "metadata": {
        "colab": {
          "base_uri": "https://localhost:8080/"
        },
        "id": "pE2rvhDZUj2u",
        "outputId": "4ea0bb11-af95-4ad9-d542-b5a8320f8a7a"
      },
      "execution_count": 8,
      "outputs": [
        {
          "output_type": "stream",
          "name": "stdout",
          "text": [
            "odd\n"
          ]
        }
      ]
    },
    {
      "cell_type": "code",
      "source": [
        "table=lambda x:[print(f\"{x} X {i} ={x*i}\") for i in range(1,11)]"
      ],
      "metadata": {
        "id": "ZWs9tJUoUnlV"
      },
      "execution_count": 9,
      "outputs": []
    },
    {
      "cell_type": "code",
      "source": [
        "table(7)"
      ],
      "metadata": {
        "colab": {
          "base_uri": "https://localhost:8080/"
        },
        "id": "9QdlyWraVCzO",
        "outputId": "35833cb3-fddc-4dc1-eb43-e80197257d20"
      },
      "execution_count": 10,
      "outputs": [
        {
          "output_type": "stream",
          "name": "stdout",
          "text": [
            "7 X 1 =7\n",
            "7 X 2 =14\n",
            "7 X 3 =21\n",
            "7 X 4 =28\n",
            "7 X 5 =35\n",
            "7 X 6 =42\n",
            "7 X 7 =49\n",
            "7 X 8 =56\n",
            "7 X 9 =63\n",
            "7 X 10 =70\n"
          ]
        },
        {
          "output_type": "execute_result",
          "data": {
            "text/plain": [
              "[None, None, None, None, None, None, None, None, None, None]"
            ]
          },
          "metadata": {},
          "execution_count": 10
        }
      ]
    },
    {
      "cell_type": "code",
      "source": [
        "try:\n",
        "  print('john')\n",
        "except:\n",
        "  print(\"Something wrong with code\")"
      ],
      "metadata": {
        "colab": {
          "base_uri": "https://localhost:8080/"
        },
        "id": "S2l34EpoVGtv",
        "outputId": "8d0e3081-9611-429e-d361-bed241305105"
      },
      "execution_count": 12,
      "outputs": [
        {
          "output_type": "stream",
          "name": "stdout",
          "text": [
            "john\n"
          ]
        }
      ]
    }
  ]
}