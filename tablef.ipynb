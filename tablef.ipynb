{
  "nbformat": 4,
  "nbformat_minor": 0,
  "metadata": {
    "colab": {
      "name": "Untitled3.ipynb",
      "provenance": [],
      "authorship_tag": "ABX9TyNhSyfzMrXmup8RDjRLFR7T",
      "include_colab_link": true
    },
    "kernelspec": {
      "name": "python3",
      "display_name": "Python 3"
    },
    "language_info": {
      "name": "python"
    }
  },
  "cells": [
    {
      "cell_type": "markdown",
      "metadata": {
        "id": "view-in-github",
        "colab_type": "text"
      },
      "source": [
        "<a href=\"https://colab.research.google.com/github/suraj-safi1/functions/blob/main/tablef.ipynb\" target=\"_parent\"><img src=\"https://colab.research.google.com/assets/colab-badge.svg\" alt=\"Open In Colab\"/></a>"
      ]
    },
    {
      "cell_type": "code",
      "execution_count": 3,
      "metadata": {
        "id": "A0Er7nQ_TaB8"
      },
      "outputs": [],
      "source": [
        "def table(n):\n",
        "  for i in range(1,11):\n",
        "    print(str(n)+ \"X\"+str(i)+ \"=\" +str(i*n))"
      ]
    },
    {
      "cell_type": "code",
      "source": [
        "table(44)"
      ],
      "metadata": {
        "colab": {
          "base_uri": "https://localhost:8080/"
        },
        "id": "zsrpThD4Tqm8",
        "outputId": "6e6397a3-bc38-4897-b77d-966bdddad1be"
      },
      "execution_count": 4,
      "outputs": [
        {
          "output_type": "stream",
          "name": "stdout",
          "text": [
            "44X1=44\n",
            "44X2=88\n",
            "44X3=132\n",
            "44X4=176\n",
            "44X5=220\n",
            "44X6=264\n",
            "44X7=308\n",
            "44X8=352\n",
            "44X9=396\n",
            "44X10=440\n"
          ]
        }
      ]
    }
  ]
}